{
 "cells": [
  {
   "cell_type": "code",
   "execution_count": 49,
   "id": "2bb4e750",
   "metadata": {},
   "outputs": [],
   "source": [
    "# Dependencies\n",
    "import gmaps\n",
    "import pandas as pd\n",
    "import numpy as np\n",
    "import requests\n",
    "import json\n",
    "from config import gkey\n",
    "from geopy import geocoders\n",
    "import time\n",
    "\n",
    "# Google API Key\n",
    "gmaps.configure(api_key=gkey)"
   ]
  },
  {
   "cell_type": "code",
   "execution_count": 50,
   "id": "ff561b1b",
   "metadata": {},
   "outputs": [],
   "source": [
    "# import csv with winery names and country names\n",
    "# File to Load\n",
    "wine_csv = \"resources/red_and_white_combined.csv\"\n",
    "\n",
    "# Read wine data file and store into Pandas DataFrames\n",
    "full_df = pd.read_csv(wine_csv)"
   ]
  },
  {
   "cell_type": "code",
   "execution_count": 51,
   "id": "a32db879",
   "metadata": {},
   "outputs": [
    {
     "name": "stdout",
     "output_type": "stream",
     "text": [
      "<class 'pandas.core.frame.DataFrame'>\n",
      "RangeIndex: 12430 entries, 0 to 12429\n",
      "Data columns (total 9 columns):\n",
      " #   Column           Non-Null Count  Dtype  \n",
      "---  ------           --------------  -----  \n",
      " 0   Name             12430 non-null  object \n",
      " 1   Country          12430 non-null  object \n",
      " 2   Region           12430 non-null  object \n",
      " 3   Winery           12430 non-null  object \n",
      " 4   Rating           12430 non-null  float64\n",
      " 5   NumberOfRatings  12430 non-null  int64  \n",
      " 6   Price            12430 non-null  float64\n",
      " 7   Year             12430 non-null  object \n",
      " 8   Type             12430 non-null  object \n",
      "dtypes: float64(2), int64(1), object(6)\n",
      "memory usage: 874.1+ KB\n"
     ]
    }
   ],
   "source": [
    "full_df.info()"
   ]
  },
  {
   "cell_type": "code",
   "execution_count": 52,
   "id": "c98442c1",
   "metadata": {},
   "outputs": [
    {
     "data": {
      "text/html": [
       "<div>\n",
       "<style scoped>\n",
       "    .dataframe tbody tr th:only-of-type {\n",
       "        vertical-align: middle;\n",
       "    }\n",
       "\n",
       "    .dataframe tbody tr th {\n",
       "        vertical-align: top;\n",
       "    }\n",
       "\n",
       "    .dataframe thead th {\n",
       "        text-align: right;\n",
       "    }\n",
       "</style>\n",
       "<table border=\"1\" class=\"dataframe\">\n",
       "  <thead>\n",
       "    <tr style=\"text-align: right;\">\n",
       "      <th></th>\n",
       "      <th>Name</th>\n",
       "      <th>Country</th>\n",
       "      <th>Region</th>\n",
       "      <th>Winery</th>\n",
       "      <th>Rating</th>\n",
       "      <th>NumberOfRatings</th>\n",
       "      <th>Price</th>\n",
       "      <th>Year</th>\n",
       "      <th>Type</th>\n",
       "    </tr>\n",
       "  </thead>\n",
       "  <tbody>\n",
       "    <tr>\n",
       "      <th>0</th>\n",
       "      <td>Vermentino 2017</td>\n",
       "      <td>Italy</td>\n",
       "      <td>Toscana</td>\n",
       "      <td>Famiglia Castellani</td>\n",
       "      <td>3.8</td>\n",
       "      <td>25</td>\n",
       "      <td>5.65</td>\n",
       "      <td>2017</td>\n",
       "      <td>white</td>\n",
       "    </tr>\n",
       "    <tr>\n",
       "      <th>1</th>\n",
       "      <td>Ronco Broilo 2010</td>\n",
       "      <td>Italy</td>\n",
       "      <td>Colli Orientali del Friuli</td>\n",
       "      <td>Conte d'Attimis Maniago</td>\n",
       "      <td>4.3</td>\n",
       "      <td>25</td>\n",
       "      <td>44.90</td>\n",
       "      <td>2010</td>\n",
       "      <td>white</td>\n",
       "    </tr>\n",
       "    <tr>\n",
       "      <th>2</th>\n",
       "      <td>Weisser Schiefer s 2017</td>\n",
       "      <td>Austria</td>\n",
       "      <td>Südburgenland</td>\n",
       "      <td>Weinbau Uwe Schiefer</td>\n",
       "      <td>4.2</td>\n",
       "      <td>25</td>\n",
       "      <td>33.25</td>\n",
       "      <td>2017</td>\n",
       "      <td>white</td>\n",
       "    </tr>\n",
       "    <tr>\n",
       "      <th>3</th>\n",
       "      <td>Chardonnay 2018</td>\n",
       "      <td>Germany</td>\n",
       "      <td>Rheinhessen</td>\n",
       "      <td>Krämer - Straight</td>\n",
       "      <td>3.9</td>\n",
       "      <td>25</td>\n",
       "      <td>8.99</td>\n",
       "      <td>2018</td>\n",
       "      <td>white</td>\n",
       "    </tr>\n",
       "    <tr>\n",
       "      <th>4</th>\n",
       "      <td>Maganza Zibibbo 2018</td>\n",
       "      <td>Italy</td>\n",
       "      <td>Terre Siciliane</td>\n",
       "      <td>Luna Gaia</td>\n",
       "      <td>3.9</td>\n",
       "      <td>25</td>\n",
       "      <td>8.60</td>\n",
       "      <td>2018</td>\n",
       "      <td>white</td>\n",
       "    </tr>\n",
       "  </tbody>\n",
       "</table>\n",
       "</div>"
      ],
      "text/plain": [
       "                      Name  Country                      Region  \\\n",
       "0          Vermentino 2017    Italy                     Toscana   \n",
       "1        Ronco Broilo 2010    Italy  Colli Orientali del Friuli   \n",
       "2  Weisser Schiefer s 2017  Austria               Südburgenland   \n",
       "3          Chardonnay 2018  Germany                 Rheinhessen   \n",
       "4     Maganza Zibibbo 2018    Italy             Terre Siciliane   \n",
       "\n",
       "                    Winery  Rating  NumberOfRatings  Price  Year   Type  \n",
       "0      Famiglia Castellani     3.8               25   5.65  2017  white  \n",
       "1  Conte d'Attimis Maniago     4.3               25  44.90  2010  white  \n",
       "2     Weinbau Uwe Schiefer     4.2               25  33.25  2017  white  \n",
       "3        Krämer - Straight     3.9               25   8.99  2018  white  \n",
       "4                Luna Gaia     3.9               25   8.60  2018  white  "
      ]
     },
     "execution_count": 52,
     "metadata": {},
     "output_type": "execute_result"
    }
   ],
   "source": [
    "full_df.head()"
   ]
  },
  {
   "cell_type": "code",
   "execution_count": 53,
   "id": "460f03a6",
   "metadata": {},
   "outputs": [],
   "source": [
    "# pulling columns needed for google API and adding them to new df\n",
    "df = pd.DataFrame()\n",
    "df[\"country\"] = full_df[\"Country\"].astype(str)\n",
    "df[\"region\"] = full_df[\"Region\"].astype(str)\n",
    "df[\"winery\"] = full_df[\"Winery\"].astype(str)\n",
    "df[\"name\"] = full_df[\"Name\"].astype(str)"
   ]
  },
  {
   "cell_type": "code",
   "execution_count": 54,
   "id": "151493d3",
   "metadata": {},
   "outputs": [
    {
     "name": "stdout",
     "output_type": "stream",
     "text": [
      "<class 'pandas.core.frame.DataFrame'>\n",
      "RangeIndex: 12430 entries, 0 to 12429\n",
      "Data columns (total 4 columns):\n",
      " #   Column   Non-Null Count  Dtype \n",
      "---  ------   --------------  ----- \n",
      " 0   country  12430 non-null  object\n",
      " 1   region   12430 non-null  object\n",
      " 2   winery   12430 non-null  object\n",
      " 3   name     12430 non-null  object\n",
      "dtypes: object(4)\n",
      "memory usage: 388.6+ KB\n"
     ]
    }
   ],
   "source": [
    "df.info()"
   ]
  },
  {
   "cell_type": "code",
   "execution_count": 55,
   "id": "977520f6",
   "metadata": {},
   "outputs": [
    {
     "data": {
      "text/html": [
       "<div>\n",
       "<style scoped>\n",
       "    .dataframe tbody tr th:only-of-type {\n",
       "        vertical-align: middle;\n",
       "    }\n",
       "\n",
       "    .dataframe tbody tr th {\n",
       "        vertical-align: top;\n",
       "    }\n",
       "\n",
       "    .dataframe thead th {\n",
       "        text-align: right;\n",
       "    }\n",
       "</style>\n",
       "<table border=\"1\" class=\"dataframe\">\n",
       "  <thead>\n",
       "    <tr style=\"text-align: right;\">\n",
       "      <th></th>\n",
       "      <th>country</th>\n",
       "      <th>region</th>\n",
       "      <th>winery</th>\n",
       "      <th>name</th>\n",
       "    </tr>\n",
       "  </thead>\n",
       "  <tbody>\n",
       "    <tr>\n",
       "      <th>0</th>\n",
       "      <td>Italy</td>\n",
       "      <td>Toscana</td>\n",
       "      <td>Famiglia Castellani</td>\n",
       "      <td>Vermentino 2017</td>\n",
       "    </tr>\n",
       "    <tr>\n",
       "      <th>1</th>\n",
       "      <td>Italy</td>\n",
       "      <td>Colli Orientali del Friuli</td>\n",
       "      <td>Conte d'Attimis Maniago</td>\n",
       "      <td>Ronco Broilo 2010</td>\n",
       "    </tr>\n",
       "    <tr>\n",
       "      <th>2</th>\n",
       "      <td>Austria</td>\n",
       "      <td>Südburgenland</td>\n",
       "      <td>Weinbau Uwe Schiefer</td>\n",
       "      <td>Weisser Schiefer s 2017</td>\n",
       "    </tr>\n",
       "    <tr>\n",
       "      <th>3</th>\n",
       "      <td>Germany</td>\n",
       "      <td>Rheinhessen</td>\n",
       "      <td>Krämer - Straight</td>\n",
       "      <td>Chardonnay 2018</td>\n",
       "    </tr>\n",
       "    <tr>\n",
       "      <th>4</th>\n",
       "      <td>Italy</td>\n",
       "      <td>Terre Siciliane</td>\n",
       "      <td>Luna Gaia</td>\n",
       "      <td>Maganza Zibibbo 2018</td>\n",
       "    </tr>\n",
       "  </tbody>\n",
       "</table>\n",
       "</div>"
      ],
      "text/plain": [
       "   country                      region                   winery  \\\n",
       "0    Italy                     Toscana      Famiglia Castellani   \n",
       "1    Italy  Colli Orientali del Friuli  Conte d'Attimis Maniago   \n",
       "2  Austria               Südburgenland     Weinbau Uwe Schiefer   \n",
       "3  Germany                 Rheinhessen        Krämer - Straight   \n",
       "4    Italy             Terre Siciliane                Luna Gaia   \n",
       "\n",
       "                      name  \n",
       "0          Vermentino 2017  \n",
       "1        Ronco Broilo 2010  \n",
       "2  Weisser Schiefer s 2017  \n",
       "3          Chardonnay 2018  \n",
       "4     Maganza Zibibbo 2018  "
      ]
     },
     "execution_count": 55,
     "metadata": {},
     "output_type": "execute_result"
    }
   ],
   "source": [
    "test = df.iloc[:5]\n",
    "test.head()"
   ]
  },
  {
   "cell_type": "code",
   "execution_count": null,
   "id": "d22136c3",
   "metadata": {},
   "outputs": [],
   "source": []
  },
  {
   "cell_type": "code",
   "execution_count": 56,
   "id": "90e7b03a",
   "metadata": {},
   "outputs": [
    {
     "name": "stdout",
     "output_type": "stream",
     "text": [
      "Famiglia Castellani\n",
      "Conte d'Attimis Maniago\n",
      "Weinbau Uwe Schiefer\n",
      "Krämer - Straight\n",
      "Luna Gaia\n"
     ]
    }
   ],
   "source": [
    "# LARGE API DATA PULL - UNCOMMENT TO RUN. BUT UNECESSARY SINCE DATA WAS ADDED TO A CSV TO PREVENT NEED TO REPULL FROM API.\n",
    "\n",
    "rows = []\n",
    "\n",
    "# assume null\n",
    "lat = np.nan\n",
    "lng = np.nan\n",
    "\n",
    "for indx, row in test.iterrows():\n",
    "    # flat dictionary\n",
    "    new_row = {} \n",
    "    \n",
    "    # Target city\n",
    "    text = f\"{row.winery}\"\n",
    "    country = f\"{row.country}\"\n",
    "    wine_name = f\"{row.name}\"\n",
    "    serves_wine = True\n",
    "    print(text)\n",
    "    \n",
    "    # Build the endpoint URL\n",
    "    target_url = f\"https://maps.googleapis.com/maps/api/geocode/json?address={text}&country={country}&serves_wine={serves_wine}&key={gkey}\"\n",
    "    \n",
    "    try:\n",
    "        # Run a request to endpoint and convert result to json\n",
    "        response = requests.get(target_url)\n",
    "        if(response.status_code == 200):\n",
    "\n",
    "            geo_data = response.json()\n",
    "\n",
    "            # Extract latitude and longitude\n",
    "            if (len(geo_data[\"results\"]) > 0):\n",
    "                lat = geo_data[\"results\"][0][\"geometry\"][\"location\"][\"lat\"]\n",
    "                lng = geo_data[\"results\"][0][\"geometry\"][\"location\"][\"lng\"]\n",
    "\n",
    "            else:\n",
    "                lat = np.nan\n",
    "                lng = np.nan\n",
    "                print(\"no winery found\")\n",
    "        else:\n",
    "            lat = np.nan\n",
    "            lng = np.nan\n",
    "            \n",
    "    except Exception as e:\n",
    "        print(e)\n",
    "\n",
    "         # nuke it, everything null\n",
    "        lat = np.nan\n",
    "        lng = np.nan\n",
    "                    \n",
    "    # flatten data and append\n",
    "    new_row[\"name\"] = wine_name\n",
    "    new_row[\"winery\"] = text\n",
    "    new_row[\"country\"] = country\n",
    "    new_row[\"latitude\"] = lat\n",
    "    new_row[\"longitude\"] = lng\n",
    "    \n",
    "    rows.append(new_row)\n",
    "    \n",
    "    # let api breathe\n",
    "    time.sleep(3)"
   ]
  },
  {
   "cell_type": "code",
   "execution_count": 57,
   "id": "45833953",
   "metadata": {},
   "outputs": [
    {
     "data": {
      "text/plain": [
       "[{'name': '0',\n",
       "  'winery': 'Famiglia Castellani',\n",
       "  'country': 'Italy',\n",
       "  'latitude': nan,\n",
       "  'longitude': nan},\n",
       " {'name': '1',\n",
       "  'winery': \"Conte d'Attimis Maniago\",\n",
       "  'country': 'Italy',\n",
       "  'latitude': 46.0096606,\n",
       "  'longitude': 13.3416919},\n",
       " {'name': '2',\n",
       "  'winery': 'Weinbau Uwe Schiefer',\n",
       "  'country': 'Austria',\n",
       "  'latitude': 47.2340461,\n",
       "  'longitude': 16.3484524},\n",
       " {'name': '3',\n",
       "  'winery': 'Krämer - Straight',\n",
       "  'country': 'Germany',\n",
       "  'latitude': 47.2340461,\n",
       "  'longitude': 16.3484524},\n",
       " {'name': '4',\n",
       "  'winery': 'Luna Gaia',\n",
       "  'country': 'Italy',\n",
       "  'latitude': 47.2340461,\n",
       "  'longitude': 16.3484524}]"
      ]
     },
     "execution_count": 57,
     "metadata": {},
     "output_type": "execute_result"
    }
   ],
   "source": [
    "rows"
   ]
  },
  {
   "cell_type": "code",
   "execution_count": 11,
   "id": "3ec5fbf4",
   "metadata": {},
   "outputs": [
    {
     "name": "stdout",
     "output_type": "stream",
     "text": [
      "<class 'pandas.core.frame.DataFrame'>\n",
      "RangeIndex: 12430 entries, 0 to 12429\n",
      "Data columns (total 5 columns):\n",
      " #   Column     Non-Null Count  Dtype  \n",
      "---  ------     --------------  -----  \n",
      " 0   name       12430 non-null  object \n",
      " 1   winery     12430 non-null  object \n",
      " 2   country    12430 non-null  object \n",
      " 3   latitude   12429 non-null  float64\n",
      " 4   longitude  12429 non-null  float64\n",
      "dtypes: float64(2), object(3)\n",
      "memory usage: 485.7+ KB\n"
     ]
    }
   ],
   "source": [
    "df_loc = pd.DataFrame(rows)\n",
    "df_loc.info()"
   ]
  },
  {
   "cell_type": "code",
   "execution_count": 16,
   "id": "5637aba8",
   "metadata": {},
   "outputs": [
    {
     "name": "stdout",
     "output_type": "stream",
     "text": [
      "<class 'pandas.core.frame.DataFrame'>\n",
      "Int64Index: 12429 entries, 1 to 12429\n",
      "Data columns (total 5 columns):\n",
      " #   Column     Non-Null Count  Dtype  \n",
      "---  ------     --------------  -----  \n",
      " 0   name       12429 non-null  object \n",
      " 1   winery     12429 non-null  object \n",
      " 2   country    12429 non-null  object \n",
      " 3   latitude   12429 non-null  float64\n",
      " 4   longitude  12429 non-null  float64\n",
      "dtypes: float64(2), object(3)\n",
      "memory usage: 582.6+ KB\n"
     ]
    }
   ],
   "source": [
    "df2 = df_loc.dropna()\n",
    "df2.reset_index(drop=True)\n",
    "df2.info()"
   ]
  },
  {
   "cell_type": "code",
   "execution_count": 17,
   "id": "d8c2bfad",
   "metadata": {},
   "outputs": [
    {
     "data": {
      "text/html": [
       "<div>\n",
       "<style scoped>\n",
       "    .dataframe tbody tr th:only-of-type {\n",
       "        vertical-align: middle;\n",
       "    }\n",
       "\n",
       "    .dataframe tbody tr th {\n",
       "        vertical-align: top;\n",
       "    }\n",
       "\n",
       "    .dataframe thead th {\n",
       "        text-align: right;\n",
       "    }\n",
       "</style>\n",
       "<table border=\"1\" class=\"dataframe\">\n",
       "  <thead>\n",
       "    <tr style=\"text-align: right;\">\n",
       "      <th></th>\n",
       "      <th>name</th>\n",
       "      <th>winery</th>\n",
       "      <th>country</th>\n",
       "      <th>latitude</th>\n",
       "      <th>longitude</th>\n",
       "    </tr>\n",
       "  </thead>\n",
       "  <tbody>\n",
       "    <tr>\n",
       "      <th>1</th>\n",
       "      <td>1</td>\n",
       "      <td>Conte d'Attimis Maniago</td>\n",
       "      <td>Italy</td>\n",
       "      <td>46.009661</td>\n",
       "      <td>13.341692</td>\n",
       "    </tr>\n",
       "    <tr>\n",
       "      <th>2</th>\n",
       "      <td>2</td>\n",
       "      <td>Weinbau Uwe Schiefer</td>\n",
       "      <td>Austria</td>\n",
       "      <td>47.234046</td>\n",
       "      <td>16.348452</td>\n",
       "    </tr>\n",
       "    <tr>\n",
       "      <th>3</th>\n",
       "      <td>3</td>\n",
       "      <td>Krämer - Straight</td>\n",
       "      <td>Germany</td>\n",
       "      <td>47.234046</td>\n",
       "      <td>16.348452</td>\n",
       "    </tr>\n",
       "    <tr>\n",
       "      <th>4</th>\n",
       "      <td>4</td>\n",
       "      <td>Luna Gaia</td>\n",
       "      <td>Italy</td>\n",
       "      <td>47.234046</td>\n",
       "      <td>16.348452</td>\n",
       "    </tr>\n",
       "    <tr>\n",
       "      <th>5</th>\n",
       "      <td>5</td>\n",
       "      <td>Schneider</td>\n",
       "      <td>Germany</td>\n",
       "      <td>47.234046</td>\n",
       "      <td>16.348452</td>\n",
       "    </tr>\n",
       "  </tbody>\n",
       "</table>\n",
       "</div>"
      ],
      "text/plain": [
       "  name                   winery  country   latitude  longitude\n",
       "1    1  Conte d'Attimis Maniago    Italy  46.009661  13.341692\n",
       "2    2     Weinbau Uwe Schiefer  Austria  47.234046  16.348452\n",
       "3    3        Krämer - Straight  Germany  47.234046  16.348452\n",
       "4    4                Luna Gaia    Italy  47.234046  16.348452\n",
       "5    5                Schneider  Germany  47.234046  16.348452"
      ]
     },
     "execution_count": 17,
     "metadata": {},
     "output_type": "execute_result"
    }
   ],
   "source": [
    "df2.head()"
   ]
  },
  {
   "cell_type": "code",
   "execution_count": 18,
   "id": "a67671d0",
   "metadata": {},
   "outputs": [],
   "source": [
    "df2_to_csv = dict(archive_name='lat_and_long.csv')  \n",
    "df2.to_csv('lat_and_long.csv', index=False) "
   ]
  },
  {
   "cell_type": "code",
   "execution_count": null,
   "id": "095a3dbc",
   "metadata": {},
   "outputs": [],
   "source": []
  },
  {
   "cell_type": "code",
   "execution_count": null,
   "id": "1c5ae64a",
   "metadata": {},
   "outputs": [],
   "source": []
  },
  {
   "cell_type": "code",
   "execution_count": null,
   "id": "8c3def63",
   "metadata": {},
   "outputs": [],
   "source": []
  }
 ],
 "metadata": {
  "kernelspec": {
   "display_name": "Python 3 (ipykernel)",
   "language": "python",
   "name": "python3"
  },
  "language_info": {
   "codemirror_mode": {
    "name": "ipython",
    "version": 3
   },
   "file_extension": ".py",
   "mimetype": "text/x-python",
   "name": "python",
   "nbconvert_exporter": "python",
   "pygments_lexer": "ipython3",
   "version": "3.9.12"
  }
 },
 "nbformat": 4,
 "nbformat_minor": 5
}
