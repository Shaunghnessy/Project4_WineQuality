{
 "cells": [
  {
   "cell_type": "code",
   "execution_count": 1,
   "id": "bd1a3fea",
   "metadata": {},
   "outputs": [],
   "source": [
    "# Dependencies\n",
    "import gmaps\n",
    "import pandas as pd\n",
    "import numpy as np\n",
    "import requests\n",
    "import json\n",
    "from config import gkey\n",
    "from geopy import geocoders\n",
    "\n",
    "# Google API Key\n",
    "gmaps.configure(api_key=gkey)"
   ]
  },
  {
   "cell_type": "code",
   "execution_count": 2,
   "id": "8a682c21",
   "metadata": {},
   "outputs": [],
   "source": [
    "# import csv with winery names and country names\n",
    "# File to Load\n",
    "wine_csv = \"resources/red_and_white_combined.csv\"\n",
    "\n",
    "# Read wine data file and store into Pandas DataFrames\n",
    "full_df = pd.read_csv(wine_csv)"
   ]
  },
  {
   "cell_type": "code",
   "execution_count": 3,
   "id": "a2076ee0",
   "metadata": {},
   "outputs": [
    {
     "name": "stdout",
     "output_type": "stream",
     "text": [
      "<class 'pandas.core.frame.DataFrame'>\n",
      "RangeIndex: 12430 entries, 0 to 12429\n",
      "Data columns (total 9 columns):\n",
      " #   Column           Non-Null Count  Dtype  \n",
      "---  ------           --------------  -----  \n",
      " 0   Name             12430 non-null  object \n",
      " 1   Country          12430 non-null  object \n",
      " 2   Region           12430 non-null  object \n",
      " 3   Winery           12430 non-null  object \n",
      " 4   Rating           12430 non-null  float64\n",
      " 5   NumberOfRatings  12430 non-null  int64  \n",
      " 6   Price            12430 non-null  float64\n",
      " 7   Year             12430 non-null  object \n",
      " 8   Type             12430 non-null  object \n",
      "dtypes: float64(2), int64(1), object(6)\n",
      "memory usage: 874.1+ KB\n"
     ]
    }
   ],
   "source": [
    "full_df.info()"
   ]
  },
  {
   "cell_type": "code",
   "execution_count": 5,
   "id": "e5e9fb20",
   "metadata": {},
   "outputs": [],
   "source": [
    "# pulling columns needed for google API and adding them to new df\n",
    "df = pd.DataFrame()\n",
    "df[\"country\"] = full_df[\"Country\"].astype(str)\n",
    "df[\"region\"] = full_df[\"Region\"].astype(str)\n",
    "df[\"winery\"] = full_df[\"Winery\"].astype(str)\n",
    "df[\"name\"] = full_df[\"Name\"].astype(str)"
   ]
  },
  {
   "cell_type": "code",
   "execution_count": 6,
   "id": "e7961008",
   "metadata": {},
   "outputs": [
    {
     "name": "stdout",
     "output_type": "stream",
     "text": [
      "<class 'pandas.core.frame.DataFrame'>\n",
      "RangeIndex: 12430 entries, 0 to 12429\n",
      "Data columns (total 4 columns):\n",
      " #   Column   Non-Null Count  Dtype \n",
      "---  ------   --------------  ----- \n",
      " 0   country  12430 non-null  object\n",
      " 1   region   12430 non-null  object\n",
      " 2   winery   12430 non-null  object\n",
      " 3   name     12430 non-null  object\n",
      "dtypes: object(4)\n",
      "memory usage: 388.6+ KB\n"
     ]
    }
   ],
   "source": [
    "df.info()"
   ]
  },
  {
   "cell_type": "code",
   "execution_count": null,
   "id": "6937653e",
   "metadata": {},
   "outputs": [],
   "source": [
    "# LARGE API DATA PULL - UNCOMMENT TO RUN. BUT UNECESSARY SINCE DATA WAS ADDED TO A CSV TO PREVENT NEED TO REPULL FROM API.\n",
    "\n",
    "rows = []\n",
    "\n",
    "# assume null\n",
    "lat = np.nan\n",
    "lng = np.nan\n",
    "\n",
    "for indx, row in df.iterrows():\n",
    "    # flat dictionary\n",
    "    new_row = {} \n",
    "    \n",
    "    # Target city\n",
    "    text = f\"{row.winery}\"\n",
    "    country = f\"{row.country}\"\n",
    "    wine_name = f\"{row.name}\"\n",
    "    print(text)\n",
    "    \n",
    "    # Build the endpoint URL\n",
    "    target_url = f\"https://maps.googleapis.com/maps/api/geocode/json?address={text}&country={country}&key={gkey}\"\n",
    "    \n",
    "    try:\n",
    "        # Run a request to endpoint and convert result to json\n",
    "        response = requests.get(target_url)\n",
    "        if(response.status_code == 200):\n",
    "\n",
    "            geo_data = response.json()\n",
    "\n",
    "            # Extract latitude and longitude\n",
    "            if (len(geo_data[\"results\"]) > 0):\n",
    "                lat = geo_data[\"results\"][0][\"geometry\"][\"location\"][\"lat\"]\n",
    "                lng = geo_data[\"results\"][0][\"geometry\"][\"location\"][\"lng\"]\n",
    "\n",
    "    \n",
    "    except Exception as e:\n",
    "        print(e)\n",
    "\n",
    "         # nuke it, everything null\n",
    "        lat = np.nan\n",
    "        lng = np.nan\n",
    "                    \n",
    "    # flatten data and append\n",
    "    new_row[\"name\"] = wine_name\n",
    "    new_row[\"winery\"] = text\n",
    "    new_row[\"country\"] = country\n",
    "    new_row[\"latitude\"] = lat\n",
    "    new_row[\"longitude\"] = lng\n",
    "    \n",
    "    rows.append(new_row)\n",
    "    \n",
    "    # let api breathe\n",
    "    time.sleep(3)"
   ]
  },
  {
   "cell_type": "code",
   "execution_count": null,
   "id": "7c71a127",
   "metadata": {},
   "outputs": [],
   "source": []
  },
  {
   "cell_type": "code",
   "execution_count": null,
   "id": "ee36970f",
   "metadata": {},
   "outputs": [],
   "source": []
  },
  {
   "cell_type": "code",
   "execution_count": null,
   "id": "22094266",
   "metadata": {},
   "outputs": [],
   "source": []
  },
  {
   "cell_type": "code",
   "execution_count": null,
   "id": "008b80d6",
   "metadata": {},
   "outputs": [],
   "source": []
  }
 ],
 "metadata": {
  "kernelspec": {
   "display_name": "Python 3 (ipykernel)",
   "language": "python",
   "name": "python3"
  },
  "language_info": {
   "codemirror_mode": {
    "name": "ipython",
    "version": 3
   },
   "file_extension": ".py",
   "mimetype": "text/x-python",
   "name": "python",
   "nbconvert_exporter": "python",
   "pygments_lexer": "ipython3",
   "version": "3.9.12"
  }
 },
 "nbformat": 4,
 "nbformat_minor": 5
}
