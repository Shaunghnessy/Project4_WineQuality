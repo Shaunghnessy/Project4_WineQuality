{
 "cells": [
  {
   "cell_type": "code",
   "execution_count": 33,
   "id": "0675967a",
   "metadata": {},
   "outputs": [
    {
     "ename": "ModuleNotFoundError",
     "evalue": "No module named 'SMOTE'",
     "output_type": "error",
     "traceback": [
      "\u001b[1;31m---------------------------------------------------------------------------\u001b[0m",
      "\u001b[1;31mModuleNotFoundError\u001b[0m                       Traceback (most recent call last)",
      "Input \u001b[1;32mIn [33]\u001b[0m, in \u001b[0;36m<cell line: 7>\u001b[1;34m()\u001b[0m\n\u001b[0;32m      5\u001b[0m \u001b[38;5;28;01mimport\u001b[39;00m \u001b[38;5;21;01mseaborn\u001b[39;00m \u001b[38;5;28;01mas\u001b[39;00m \u001b[38;5;21;01msns\u001b[39;00m\n\u001b[0;32m      6\u001b[0m \u001b[38;5;28;01mimport\u001b[39;00m \u001b[38;5;21;01mpickle\u001b[39;00m\n\u001b[1;32m----> 7\u001b[0m \u001b[38;5;28;01mimport\u001b[39;00m \u001b[38;5;21;01mSMOTE\u001b[39;00m\n\u001b[0;32m      9\u001b[0m \u001b[38;5;66;03m# model preprocessing & metrics\u001b[39;00m\n\u001b[0;32m     10\u001b[0m \u001b[38;5;28;01mfrom\u001b[39;00m \u001b[38;5;21;01msklearn\u001b[39;00m\u001b[38;5;21;01m.\u001b[39;00m\u001b[38;5;21;01mmodel_selection\u001b[39;00m \u001b[38;5;28;01mimport\u001b[39;00m train_test_split\n",
      "\u001b[1;31mModuleNotFoundError\u001b[0m: No module named 'SMOTE'"
     ]
    }
   ],
   "source": [
    " # Data Science Libs\n",
    "import matplotlib.pyplot as plt\n",
    "import numpy as np\n",
    "import pandas as pd\n",
    "import seaborn as sns\n",
    "import pickle\n",
    "\n",
    "# model preprocessing & metrics\n",
    "from sklearn.model_selection import train_test_split\n",
    "from sklearn.preprocessing import StandardScaler, MinMaxScaler\n",
    "from sklearn.metrics import confusion_matrix, classification_report, roc_curve, auc\n",
    "\n",
    "# algorithm\n",
    "from sklearn.linear_model import LogisticRegression\n",
    "from sklearn.neighbors import KNeighborsClassifier\n",
    "from sklearn.tree import DecisionTreeClassifier\n",
    "from sklearn.svm import SVC\n",
    "from sklearn.ensemble import RandomForestClassifier\n",
    "from xgboost import XGBClassifier\n",
    "from lightgbm import LGBMClassifier"
   ]
  },
  {
   "cell_type": "code",
   "execution_count": 6,
   "id": "43e6d045",
   "metadata": {},
   "outputs": [
    {
     "data": {
      "text/html": [
       "<div>\n",
       "<style scoped>\n",
       "    .dataframe tbody tr th:only-of-type {\n",
       "        vertical-align: middle;\n",
       "    }\n",
       "\n",
       "    .dataframe tbody tr th {\n",
       "        vertical-align: top;\n",
       "    }\n",
       "\n",
       "    .dataframe thead th {\n",
       "        text-align: right;\n",
       "    }\n",
       "</style>\n",
       "<table border=\"1\" class=\"dataframe\">\n",
       "  <thead>\n",
       "    <tr style=\"text-align: right;\">\n",
       "      <th></th>\n",
       "      <th>type</th>\n",
       "      <th>fixed acidity</th>\n",
       "      <th>volatile acidity</th>\n",
       "      <th>citric acid</th>\n",
       "      <th>residual sugar</th>\n",
       "      <th>chlorides</th>\n",
       "      <th>free sulfur dioxide</th>\n",
       "      <th>total sulfur dioxide</th>\n",
       "      <th>density</th>\n",
       "      <th>pH</th>\n",
       "      <th>sulphates</th>\n",
       "      <th>alcohol</th>\n",
       "      <th>quality</th>\n",
       "    </tr>\n",
       "  </thead>\n",
       "  <tbody>\n",
       "    <tr>\n",
       "      <th>0</th>\n",
       "      <td>white</td>\n",
       "      <td>7.0</td>\n",
       "      <td>0.27</td>\n",
       "      <td>0.36</td>\n",
       "      <td>20.7</td>\n",
       "      <td>0.045</td>\n",
       "      <td>45.0</td>\n",
       "      <td>170.0</td>\n",
       "      <td>1.0010</td>\n",
       "      <td>3.00</td>\n",
       "      <td>0.45</td>\n",
       "      <td>8.8</td>\n",
       "      <td>6</td>\n",
       "    </tr>\n",
       "    <tr>\n",
       "      <th>1</th>\n",
       "      <td>white</td>\n",
       "      <td>6.3</td>\n",
       "      <td>0.30</td>\n",
       "      <td>0.34</td>\n",
       "      <td>1.6</td>\n",
       "      <td>0.049</td>\n",
       "      <td>14.0</td>\n",
       "      <td>132.0</td>\n",
       "      <td>0.9940</td>\n",
       "      <td>3.30</td>\n",
       "      <td>0.49</td>\n",
       "      <td>9.5</td>\n",
       "      <td>6</td>\n",
       "    </tr>\n",
       "    <tr>\n",
       "      <th>2</th>\n",
       "      <td>white</td>\n",
       "      <td>8.1</td>\n",
       "      <td>0.28</td>\n",
       "      <td>0.40</td>\n",
       "      <td>6.9</td>\n",
       "      <td>0.050</td>\n",
       "      <td>30.0</td>\n",
       "      <td>97.0</td>\n",
       "      <td>0.9951</td>\n",
       "      <td>3.26</td>\n",
       "      <td>0.44</td>\n",
       "      <td>10.1</td>\n",
       "      <td>6</td>\n",
       "    </tr>\n",
       "    <tr>\n",
       "      <th>3</th>\n",
       "      <td>white</td>\n",
       "      <td>7.2</td>\n",
       "      <td>0.23</td>\n",
       "      <td>0.32</td>\n",
       "      <td>8.5</td>\n",
       "      <td>0.058</td>\n",
       "      <td>47.0</td>\n",
       "      <td>186.0</td>\n",
       "      <td>0.9956</td>\n",
       "      <td>3.19</td>\n",
       "      <td>0.40</td>\n",
       "      <td>9.9</td>\n",
       "      <td>6</td>\n",
       "    </tr>\n",
       "    <tr>\n",
       "      <th>4</th>\n",
       "      <td>white</td>\n",
       "      <td>7.2</td>\n",
       "      <td>0.23</td>\n",
       "      <td>0.32</td>\n",
       "      <td>8.5</td>\n",
       "      <td>0.058</td>\n",
       "      <td>47.0</td>\n",
       "      <td>186.0</td>\n",
       "      <td>0.9956</td>\n",
       "      <td>3.19</td>\n",
       "      <td>0.40</td>\n",
       "      <td>9.9</td>\n",
       "      <td>6</td>\n",
       "    </tr>\n",
       "  </tbody>\n",
       "</table>\n",
       "</div>"
      ],
      "text/plain": [
       "    type  fixed acidity  volatile acidity  citric acid  residual sugar  \\\n",
       "0  white            7.0              0.27         0.36            20.7   \n",
       "1  white            6.3              0.30         0.34             1.6   \n",
       "2  white            8.1              0.28         0.40             6.9   \n",
       "3  white            7.2              0.23         0.32             8.5   \n",
       "4  white            7.2              0.23         0.32             8.5   \n",
       "\n",
       "   chlorides  free sulfur dioxide  total sulfur dioxide  density    pH  \\\n",
       "0      0.045                 45.0                 170.0   1.0010  3.00   \n",
       "1      0.049                 14.0                 132.0   0.9940  3.30   \n",
       "2      0.050                 30.0                  97.0   0.9951  3.26   \n",
       "3      0.058                 47.0                 186.0   0.9956  3.19   \n",
       "4      0.058                 47.0                 186.0   0.9956  3.19   \n",
       "\n",
       "   sulphates  alcohol  quality  \n",
       "0       0.45      8.8        6  \n",
       "1       0.49      9.5        6  \n",
       "2       0.44     10.1        6  \n",
       "3       0.40      9.9        6  \n",
       "4       0.40      9.9        6  "
      ]
     },
     "execution_count": 6,
     "metadata": {},
     "output_type": "execute_result"
    }
   ],
   "source": [
    "df = pd.read_csv(\"resources/wine-quality-white-and-red.csv\")\n",
    "df.head()"
   ]
  },
  {
   "cell_type": "code",
   "execution_count": 7,
   "id": "38eccc95",
   "metadata": {},
   "outputs": [],
   "source": [
    "df[\"target\"] = pd.get_dummies(df.type, drop_first=True)"
   ]
  },
  {
   "cell_type": "code",
   "execution_count": 8,
   "id": "752e4ac1",
   "metadata": {},
   "outputs": [
    {
     "data": {
      "text/html": [
       "<div>\n",
       "<style scoped>\n",
       "    .dataframe tbody tr th:only-of-type {\n",
       "        vertical-align: middle;\n",
       "    }\n",
       "\n",
       "    .dataframe tbody tr th {\n",
       "        vertical-align: top;\n",
       "    }\n",
       "\n",
       "    .dataframe thead th {\n",
       "        text-align: right;\n",
       "    }\n",
       "</style>\n",
       "<table border=\"1\" class=\"dataframe\">\n",
       "  <thead>\n",
       "    <tr style=\"text-align: right;\">\n",
       "      <th></th>\n",
       "      <th>fixed acidity</th>\n",
       "      <th>volatile acidity</th>\n",
       "      <th>citric acid</th>\n",
       "      <th>residual sugar</th>\n",
       "      <th>chlorides</th>\n",
       "      <th>free sulfur dioxide</th>\n",
       "      <th>total sulfur dioxide</th>\n",
       "      <th>density</th>\n",
       "      <th>pH</th>\n",
       "      <th>sulphates</th>\n",
       "      <th>alcohol</th>\n",
       "      <th>quality</th>\n",
       "      <th>target</th>\n",
       "    </tr>\n",
       "  </thead>\n",
       "  <tbody>\n",
       "    <tr>\n",
       "      <th>count</th>\n",
       "      <td>6497.000000</td>\n",
       "      <td>6497.000000</td>\n",
       "      <td>6497.000000</td>\n",
       "      <td>6497.000000</td>\n",
       "      <td>6497.000000</td>\n",
       "      <td>6497.000000</td>\n",
       "      <td>6497.000000</td>\n",
       "      <td>6497.000000</td>\n",
       "      <td>6497.000000</td>\n",
       "      <td>6497.000000</td>\n",
       "      <td>6497.000000</td>\n",
       "      <td>6497.000000</td>\n",
       "      <td>6497.000000</td>\n",
       "    </tr>\n",
       "    <tr>\n",
       "      <th>mean</th>\n",
       "      <td>7.215307</td>\n",
       "      <td>0.339666</td>\n",
       "      <td>0.318633</td>\n",
       "      <td>5.443235</td>\n",
       "      <td>0.056034</td>\n",
       "      <td>30.525319</td>\n",
       "      <td>115.744574</td>\n",
       "      <td>0.994697</td>\n",
       "      <td>3.218501</td>\n",
       "      <td>0.531268</td>\n",
       "      <td>10.491801</td>\n",
       "      <td>5.818378</td>\n",
       "      <td>0.753886</td>\n",
       "    </tr>\n",
       "    <tr>\n",
       "      <th>std</th>\n",
       "      <td>1.296434</td>\n",
       "      <td>0.164636</td>\n",
       "      <td>0.145318</td>\n",
       "      <td>4.757804</td>\n",
       "      <td>0.035034</td>\n",
       "      <td>17.749400</td>\n",
       "      <td>56.521855</td>\n",
       "      <td>0.002999</td>\n",
       "      <td>0.160787</td>\n",
       "      <td>0.148806</td>\n",
       "      <td>1.192712</td>\n",
       "      <td>0.873255</td>\n",
       "      <td>0.430779</td>\n",
       "    </tr>\n",
       "    <tr>\n",
       "      <th>min</th>\n",
       "      <td>3.800000</td>\n",
       "      <td>0.080000</td>\n",
       "      <td>0.000000</td>\n",
       "      <td>0.600000</td>\n",
       "      <td>0.009000</td>\n",
       "      <td>1.000000</td>\n",
       "      <td>6.000000</td>\n",
       "      <td>0.987110</td>\n",
       "      <td>2.720000</td>\n",
       "      <td>0.220000</td>\n",
       "      <td>8.000000</td>\n",
       "      <td>3.000000</td>\n",
       "      <td>0.000000</td>\n",
       "    </tr>\n",
       "    <tr>\n",
       "      <th>25%</th>\n",
       "      <td>6.400000</td>\n",
       "      <td>0.230000</td>\n",
       "      <td>0.250000</td>\n",
       "      <td>1.800000</td>\n",
       "      <td>0.038000</td>\n",
       "      <td>17.000000</td>\n",
       "      <td>77.000000</td>\n",
       "      <td>0.992340</td>\n",
       "      <td>3.110000</td>\n",
       "      <td>0.430000</td>\n",
       "      <td>9.500000</td>\n",
       "      <td>5.000000</td>\n",
       "      <td>1.000000</td>\n",
       "    </tr>\n",
       "    <tr>\n",
       "      <th>50%</th>\n",
       "      <td>7.000000</td>\n",
       "      <td>0.290000</td>\n",
       "      <td>0.310000</td>\n",
       "      <td>3.000000</td>\n",
       "      <td>0.047000</td>\n",
       "      <td>29.000000</td>\n",
       "      <td>118.000000</td>\n",
       "      <td>0.994890</td>\n",
       "      <td>3.210000</td>\n",
       "      <td>0.510000</td>\n",
       "      <td>10.300000</td>\n",
       "      <td>6.000000</td>\n",
       "      <td>1.000000</td>\n",
       "    </tr>\n",
       "    <tr>\n",
       "      <th>75%</th>\n",
       "      <td>7.700000</td>\n",
       "      <td>0.400000</td>\n",
       "      <td>0.390000</td>\n",
       "      <td>8.100000</td>\n",
       "      <td>0.065000</td>\n",
       "      <td>41.000000</td>\n",
       "      <td>156.000000</td>\n",
       "      <td>0.996990</td>\n",
       "      <td>3.320000</td>\n",
       "      <td>0.600000</td>\n",
       "      <td>11.300000</td>\n",
       "      <td>6.000000</td>\n",
       "      <td>1.000000</td>\n",
       "    </tr>\n",
       "    <tr>\n",
       "      <th>max</th>\n",
       "      <td>15.900000</td>\n",
       "      <td>1.580000</td>\n",
       "      <td>1.660000</td>\n",
       "      <td>65.800000</td>\n",
       "      <td>0.611000</td>\n",
       "      <td>289.000000</td>\n",
       "      <td>440.000000</td>\n",
       "      <td>1.038980</td>\n",
       "      <td>4.010000</td>\n",
       "      <td>2.000000</td>\n",
       "      <td>14.900000</td>\n",
       "      <td>9.000000</td>\n",
       "      <td>1.000000</td>\n",
       "    </tr>\n",
       "  </tbody>\n",
       "</table>\n",
       "</div>"
      ],
      "text/plain": [
       "       fixed acidity  volatile acidity  citric acid  residual sugar  \\\n",
       "count    6497.000000       6497.000000  6497.000000     6497.000000   \n",
       "mean        7.215307          0.339666     0.318633        5.443235   \n",
       "std         1.296434          0.164636     0.145318        4.757804   \n",
       "min         3.800000          0.080000     0.000000        0.600000   \n",
       "25%         6.400000          0.230000     0.250000        1.800000   \n",
       "50%         7.000000          0.290000     0.310000        3.000000   \n",
       "75%         7.700000          0.400000     0.390000        8.100000   \n",
       "max        15.900000          1.580000     1.660000       65.800000   \n",
       "\n",
       "         chlorides  free sulfur dioxide  total sulfur dioxide      density  \\\n",
       "count  6497.000000          6497.000000           6497.000000  6497.000000   \n",
       "mean      0.056034            30.525319            115.744574     0.994697   \n",
       "std       0.035034            17.749400             56.521855     0.002999   \n",
       "min       0.009000             1.000000              6.000000     0.987110   \n",
       "25%       0.038000            17.000000             77.000000     0.992340   \n",
       "50%       0.047000            29.000000            118.000000     0.994890   \n",
       "75%       0.065000            41.000000            156.000000     0.996990   \n",
       "max       0.611000           289.000000            440.000000     1.038980   \n",
       "\n",
       "                pH    sulphates      alcohol      quality       target  \n",
       "count  6497.000000  6497.000000  6497.000000  6497.000000  6497.000000  \n",
       "mean      3.218501     0.531268    10.491801     5.818378     0.753886  \n",
       "std       0.160787     0.148806     1.192712     0.873255     0.430779  \n",
       "min       2.720000     0.220000     8.000000     3.000000     0.000000  \n",
       "25%       3.110000     0.430000     9.500000     5.000000     1.000000  \n",
       "50%       3.210000     0.510000    10.300000     6.000000     1.000000  \n",
       "75%       3.320000     0.600000    11.300000     6.000000     1.000000  \n",
       "max       4.010000     2.000000    14.900000     9.000000     1.000000  "
      ]
     },
     "execution_count": 8,
     "metadata": {},
     "output_type": "execute_result"
    }
   ],
   "source": [
    "df.describe()"
   ]
  },
  {
   "cell_type": "code",
   "execution_count": 9,
   "id": "8c1f4daf",
   "metadata": {},
   "outputs": [
    {
     "data": {
      "text/plain": [
       "Index(['type', 'fixed acidity', 'volatile acidity', 'citric acid',\n",
       "       'residual sugar', 'chlorides', 'free sulfur dioxide',\n",
       "       'total sulfur dioxide', 'density', 'pH', 'sulphates', 'alcohol',\n",
       "       'quality', 'target'],\n",
       "      dtype='object')"
      ]
     },
     "execution_count": 9,
     "metadata": {},
     "output_type": "execute_result"
    }
   ],
   "source": [
    "df.columns"
   ]
  },
  {
   "cell_type": "code",
   "execution_count": 10,
   "id": "dd84b0c2",
   "metadata": {
    "scrolled": false
   },
   "outputs": [
    {
     "name": "stdout",
     "output_type": "stream",
     "text": [
      "type\n",
      "white    4898\n",
      "red      1599\n",
      "Name: type, dtype: int64\n",
      "\n",
      "fixed acidity\n",
      "6.80     354\n",
      "6.60     327\n",
      "6.40     305\n",
      "7.00     282\n",
      "6.90     279\n",
      "        ... \n",
      "3.90       1\n",
      "3.80       1\n",
      "6.45       1\n",
      "4.50       1\n",
      "12.10      1\n",
      "Name: fixed acidity, Length: 106, dtype: int64\n",
      "\n",
      "volatile acidity\n",
      "0.280    286\n",
      "0.240    266\n",
      "0.260    256\n",
      "0.250    238\n",
      "0.220    235\n",
      "        ... \n",
      "0.975      1\n",
      "1.070      1\n",
      "0.950      1\n",
      "1.090      1\n",
      "0.905      1\n",
      "Name: volatile acidity, Length: 187, dtype: int64\n",
      "\n",
      "citric acid\n",
      "0.30    337\n",
      "0.28    301\n",
      "0.32    289\n",
      "0.49    283\n",
      "0.26    257\n",
      "       ... \n",
      "1.66      1\n",
      "1.23      1\n",
      "0.99      1\n",
      "0.88      1\n",
      "0.75      1\n",
      "Name: citric acid, Length: 89, dtype: int64\n",
      "\n",
      "residual sugar\n",
      "2.00     235\n",
      "1.80     228\n",
      "1.60     223\n",
      "1.40     219\n",
      "1.20     195\n",
      "        ... \n",
      "12.05      1\n",
      "6.95       1\n",
      "9.55       1\n",
      "20.15      1\n",
      "3.45       1\n",
      "Name: residual sugar, Length: 316, dtype: int64\n",
      "\n",
      "chlorides\n",
      "0.044    206\n",
      "0.036    200\n",
      "0.042    187\n",
      "0.046    185\n",
      "0.040    182\n",
      "        ... \n",
      "0.610      1\n",
      "0.290      1\n",
      "0.360      1\n",
      "0.239      1\n",
      "0.230      1\n",
      "Name: chlorides, Length: 214, dtype: int64\n",
      "\n",
      "free sulfur dioxide\n",
      "29.0     183\n",
      "6.0      170\n",
      "26.0     161\n",
      "15.0     157\n",
      "24.0     152\n",
      "        ... \n",
      "30.5       1\n",
      "138.5      1\n",
      "95.0       1\n",
      "124.0      1\n",
      "64.5       1\n",
      "Name: free sulfur dioxide, Length: 135, dtype: int64\n",
      "\n",
      "total sulfur dioxide\n",
      "111.0    72\n",
      "113.0    65\n",
      "117.0    57\n",
      "122.0    57\n",
      "124.0    56\n",
      "         ..\n",
      "176.5     1\n",
      "115.5     1\n",
      "259.0     1\n",
      "164.5     1\n",
      "440.0     1\n",
      "Name: total sulfur dioxide, Length: 276, dtype: int64\n",
      "\n",
      "density\n",
      "0.99720    69\n",
      "0.99760    69\n",
      "0.99200    64\n",
      "0.99800    64\n",
      "0.99280    63\n",
      "           ..\n",
      "0.99342     1\n",
      "0.99463     1\n",
      "0.99081     1\n",
      "0.98997     1\n",
      "0.99651     1\n",
      "Name: density, Length: 998, dtype: int64\n",
      "\n",
      "pH\n",
      "3.16    200\n",
      "3.14    193\n",
      "3.22    185\n",
      "3.20    176\n",
      "3.19    170\n",
      "       ... \n",
      "2.72      1\n",
      "3.85      1\n",
      "3.82      1\n",
      "3.81      1\n",
      "3.79      1\n",
      "Name: pH, Length: 108, dtype: int64\n",
      "\n",
      "sulphates\n",
      "0.50    276\n",
      "0.46    243\n",
      "0.54    235\n",
      "0.44    232\n",
      "0.38    214\n",
      "       ... \n",
      "1.20      1\n",
      "1.56      1\n",
      "0.23      1\n",
      "0.22      1\n",
      "1.33      1\n",
      "Name: sulphates, Length: 111, dtype: int64\n",
      "\n",
      "alcohol\n",
      "9.500000     367\n",
      "9.400000     332\n",
      "9.200000     271\n",
      "10.000000    229\n",
      "10.500000    227\n",
      "            ... \n",
      "10.533333      1\n",
      "11.366667      1\n",
      "12.333333      1\n",
      "14.050000      1\n",
      "10.750000      1\n",
      "Name: alcohol, Length: 111, dtype: int64\n",
      "\n"
     ]
    }
   ],
   "source": [
    "cols = ['type', 'fixed acidity', 'volatile acidity', 'citric acid',\n",
    "       'residual sugar', 'chlorides', 'free sulfur dioxide',\n",
    "       'total sulfur dioxide', 'density', 'pH', 'sulphates', 'alcohol']\n",
    "for col in cols:\n",
    "    print(col)\n",
    "    print(df[col].value_counts())\n",
    "    print()"
   ]
  },
  {
   "cell_type": "code",
   "execution_count": 11,
   "id": "b76ce215",
   "metadata": {},
   "outputs": [
    {
     "name": "stdout",
     "output_type": "stream",
     "text": [
      "                      fixed acidity  volatile acidity  citric acid  \\\n",
      "fixed acidity              1.000000          0.219008     0.324436   \n",
      "volatile acidity           0.219008          1.000000    -0.377981   \n",
      "citric acid                0.324436         -0.377981     1.000000   \n",
      "residual sugar            -0.111981         -0.196011     0.142451   \n",
      "chlorides                  0.298195          0.377124     0.038998   \n",
      "free sulfur dioxide       -0.282735         -0.352557     0.133126   \n",
      "total sulfur dioxide      -0.329054         -0.414476     0.195242   \n",
      "density                    0.458910          0.271296     0.096154   \n",
      "pH                        -0.252700          0.261454    -0.329808   \n",
      "sulphates                  0.299568          0.225984     0.056197   \n",
      "alcohol                   -0.095452         -0.037640    -0.010493   \n",
      "quality                   -0.076743         -0.265699     0.085532   \n",
      "target                    -0.486740         -0.653036     0.187397   \n",
      "\n",
      "                      residual sugar  chlorides  free sulfur dioxide  \\\n",
      "fixed acidity              -0.111981   0.298195            -0.282735   \n",
      "volatile acidity           -0.196011   0.377124            -0.352557   \n",
      "citric acid                 0.142451   0.038998             0.133126   \n",
      "residual sugar              1.000000  -0.128940             0.402871   \n",
      "chlorides                  -0.128940   1.000000            -0.195045   \n",
      "free sulfur dioxide         0.402871  -0.195045             1.000000   \n",
      "total sulfur dioxide        0.495482  -0.279630             0.720934   \n",
      "density                     0.552517   0.362615             0.025717   \n",
      "pH                         -0.267320   0.044708            -0.145854   \n",
      "sulphates                  -0.185927   0.395593            -0.188457   \n",
      "alcohol                    -0.359415  -0.256916            -0.179838   \n",
      "quality                    -0.036980  -0.200666             0.055463   \n",
      "target                      0.348821  -0.512678             0.471644   \n",
      "\n",
      "                      total sulfur dioxide   density        pH  sulphates  \\\n",
      "fixed acidity                    -0.329054  0.458910 -0.252700   0.299568   \n",
      "volatile acidity                 -0.414476  0.271296  0.261454   0.225984   \n",
      "citric acid                       0.195242  0.096154 -0.329808   0.056197   \n",
      "residual sugar                    0.495482  0.552517 -0.267320  -0.185927   \n",
      "chlorides                        -0.279630  0.362615  0.044708   0.395593   \n",
      "free sulfur dioxide               0.720934  0.025717 -0.145854  -0.188457   \n",
      "total sulfur dioxide              1.000000  0.032395 -0.238413  -0.275727   \n",
      "density                           0.032395  1.000000  0.011686   0.259478   \n",
      "pH                               -0.238413  0.011686  1.000000   0.192123   \n",
      "sulphates                        -0.275727  0.259478  0.192123   1.000000   \n",
      "alcohol                          -0.265740 -0.686745  0.121248  -0.003029   \n",
      "quality                          -0.041385 -0.305858  0.019506   0.038485   \n",
      "target                            0.700357 -0.390645 -0.329129  -0.487218   \n",
      "\n",
      "                       alcohol   quality    target  \n",
      "fixed acidity        -0.095452 -0.076743 -0.486740  \n",
      "volatile acidity     -0.037640 -0.265699 -0.653036  \n",
      "citric acid          -0.010493  0.085532  0.187397  \n",
      "residual sugar       -0.359415 -0.036980  0.348821  \n",
      "chlorides            -0.256916 -0.200666 -0.512678  \n",
      "free sulfur dioxide  -0.179838  0.055463  0.471644  \n",
      "total sulfur dioxide -0.265740 -0.041385  0.700357  \n",
      "density              -0.686745 -0.305858 -0.390645  \n",
      "pH                    0.121248  0.019506 -0.329129  \n",
      "sulphates            -0.003029  0.038485 -0.487218  \n",
      "alcohol               1.000000  0.444319  0.032970  \n",
      "quality               0.444319  1.000000  0.119323  \n",
      "target                0.032970  0.119323  1.000000  \n",
      "\n"
     ]
    },
    {
     "data": {
      "image/png": "[encoded data removed]",
      "text/plain": [
       "<Figure size 432x288 with 2 Axes>"
      ]
     },
     "metadata": {
      "needs_background": "light"
     },
     "output_type": "display_data"
    }
   ],
   "source": [
    "  # check correlations\n",
    "corrs = df.corr()\n",
    "print(corrs)\n",
    "print()\n",
    "sns.heatmap(corrs)\n",
    "plt.show()"
   ]
  },
  {
   "cell_type": "code",
   "execution_count": 12,
   "id": "6a8baf1f",
   "metadata": {},
   "outputs": [
    {
     "data": {
      "text/plain": [
       "target                  1.000000\n",
       "total sulfur dioxide    0.700357\n",
       "volatile acidity        0.653036\n",
       "chlorides               0.512678\n",
       "sulphates               0.487218\n",
       "fixed acidity           0.486740\n",
       "free sulfur dioxide     0.471644\n",
       "density                 0.390645\n",
       "residual sugar          0.348821\n",
       "pH                      0.329129\n",
       "citric acid             0.187397\n",
       "quality                 0.119323\n",
       "alcohol                 0.032970\n",
       "Name: target, dtype: float64"
      ]
     },
     "execution_count": 12,
     "metadata": {},
     "output_type": "execute_result"
    }
   ],
   "source": [
    " abs(df.corr()[\"target\"]).sort_values(ascending=False)"
   ]
  },
  {
   "cell_type": "code",
   "execution_count": 13,
   "id": "c508b2ed",
   "metadata": {},
   "outputs": [
    {
     "name": "stdout",
     "output_type": "stream",
     "text": [
      "0.7 : 0.3\n"
     ]
    }
   ],
   "source": [
    "features = ['fixed acidity', 'volatile acidity', 'citric acid',\n",
    "       'residual sugar', 'chlorides', 'free sulfur dioxide',\n",
    "       'total sulfur dioxide', 'density', 'pH', 'sulphates', 'alcohol',\n",
    "       'quality']\n",
    "X = df.loc[:, features].values\n",
    "y = df.loc[:, [\"target\"]].values.ravel()\n",
    "\n",
    "X_train, X_test, y_train, y_test = train_test_split(X, y, test_size=0.3, random_state=42, stratify=y) # use stratify for classification models\n",
    "print(f\"{round(len(X_train)/len(X), 3)} : {round(len(X_test)/len(X), 3)}\")"
   ]
  },
  {
   "cell_type": "code",
   "execution_count": 14,
   "id": "3321d2f9",
   "metadata": {},
   "outputs": [],
   "source": [
    " # recipe\n",
    "lr = LogisticRegression(max_iter=10000) # init\n",
    "lr.fit(X_train, y_train) # fit\n",
    "\n",
    "train_preds = lr.predict(X_train) # predict\n",
    "test_preds = lr.predict(X_test)\n",
    "test_proba = lr.predict_proba(X_test)"
   ]
  },
  {
   "cell_type": "code",
   "execution_count": 15,
   "id": "aa2aa422",
   "metadata": {},
   "outputs": [
    {
     "name": "stdout",
     "output_type": "stream",
     "text": [
      "[1 1 0 0 1 1 1 0 0 0]\n",
      "\n",
      "[[7.68988838e-03 9.92310112e-01]\n",
      " [2.90768660e-05 9.99970923e-01]\n",
      " [9.90966485e-01 9.03351489e-03]\n",
      " [9.40728233e-01 5.92717669e-02]\n",
      " [8.42248790e-02 9.15775121e-01]\n",
      " [4.43613002e-03 9.95563870e-01]\n",
      " [1.37008987e-01 8.62991013e-01]\n",
      " [9.92057644e-01 7.94235649e-03]\n",
      " [9.76495339e-01 2.35046615e-02]\n",
      " [8.25004087e-01 1.74995913e-01]]\n"
     ]
    }
   ],
   "source": [
    " print(test_preds[0:10])\n",
    "print()\n",
    "print(test_proba[0:10]) "
   ]
  },
  {
   "cell_type": "code",
   "execution_count": 16,
   "id": "d339ed42",
   "metadata": {},
   "outputs": [
    {
     "name": "stdout",
     "output_type": "stream",
     "text": [
      "\n",
      "METRICS FOR THE TESTING SET:\n",
      "----------------------------\n",
      "[[1074   45]\n",
      " [  22 3406]]\n",
      "\n",
      "              precision    recall  f1-score   support\n",
      "\n",
      "           0       0.98      0.96      0.97      1119\n",
      "           1       0.99      0.99      0.99      3428\n",
      "\n",
      "    accuracy                           0.99      4547\n",
      "   macro avg       0.98      0.98      0.98      4547\n",
      "weighted avg       0.99      0.99      0.99      4547\n",
      "\n",
      "\n",
      "\n",
      "METRICS FOR THE TESTING SET:\n",
      "----------------------------\n",
      "[[ 454   26]\n",
      " [   7 1463]]\n",
      "\n",
      "              precision    recall  f1-score   support\n",
      "\n",
      "           0       0.98      0.95      0.96       480\n",
      "           1       0.98      1.00      0.99      1470\n",
      "\n",
      "    accuracy                           0.98      1950\n",
      "   macro avg       0.98      0.97      0.98      1950\n",
      "weighted avg       0.98      0.98      0.98      1950\n",
      "\n",
      "\n"
     ]
    }
   ],
   "source": [
    "output = f\"\"\"\n",
    "METRICS FOR THE TESTING SET:\n",
    "----------------------------\n",
    "{confusion_matrix(y_train, train_preds)}\n",
    "\n",
    "{classification_report(y_train, train_preds)}\n",
    "\"\"\"\n",
    "print(output)\n",
    "\n",
    "#################################################\n",
    "\n",
    "output = f\"\"\"\n",
    "METRICS FOR THE TESTING SET:\n",
    "----------------------------\n",
    "{confusion_matrix(y_test, test_preds)}\n",
    "\n",
    "{classification_report(y_test, test_preds)}\n",
    "\"\"\"\n",
    "print(output)"
   ]
  },
  {
   "cell_type": "code",
   "execution_count": 17,
   "id": "a493f100",
   "metadata": {},
   "outputs": [
    {
     "data": {
      "text/plain": [
       "27.362834565229967"
      ]
     },
     "execution_count": 17,
     "metadata": {},
     "output_type": "execute_result"
    }
   ],
   "source": [
    "sum((y_test - test_proba[:,1])**2)"
   ]
  },
  {
   "cell_type": "code",
   "execution_count": 18,
   "id": "7da4a6e0",
   "metadata": {},
   "outputs": [
    {
     "name": "stdout",
     "output_type": "stream",
     "text": [
      "AUC for the Model Test Set: 0.994265164399093\n"
     ]
    },
    {
     "data": {
      "image/png": "[encoded data removed]",
      "text/plain": [
       "<Figure size 720x432 with 1 Axes>"
      ]
     },
     "metadata": {
      "needs_background": "light"
     },
     "output_type": "display_data"
    }
   ],
   "source": [
    "fpr_knn, tpr_knn, thresholds_knn = roc_curve(y_test, test_proba[:,1])\n",
    "\n",
    "roc_auc_knn = auc(fpr_knn, tpr_knn)\n",
    "print(f\"AUC for the Model Test Set: {roc_auc_knn}\")\n",
    "\n",
    "# make plot\n",
    "plt.figure(figsize=(10,6))\n",
    "plt.plot(fpr_knn, tpr_knn, color='darkorange')\n",
    "plt.plot([0, 1], [0, 1], color='navy', linestyle='--')\n",
    "plt.xlim([0.0, 1.0])\n",
    "plt.ylim([0.0, 1.05])\n",
    "plt.xlabel('False Positive Rate')\n",
    "plt.ylabel('True Positive Rate')\n",
    "plt.title('ROC Curve')\n",
    "plt.show()"
   ]
  },
  {
   "cell_type": "code",
   "execution_count": 19,
   "id": "643342e4",
   "metadata": {},
   "outputs": [],
   "source": [
    "def evaluateModel(model, X_train, X_test, y_train, y_test):\n",
    "    model.fit(X_train, y_train) # fit\n",
    "    \n",
    "    train_preds = model.predict(X_train) # predict\n",
    "    test_preds = model.predict(X_test)\n",
    "    test_proba = model.predict_proba(X_test)\n",
    "    \n",
    "    output_train = f\"\"\"\n",
    "    METRICS FOR THE TRAINING SET:\n",
    "    ----------------------------\n",
    "    {confusion_matrix(y_train, train_preds)}\n",
    "\n",
    "    {classification_report(y_train, train_preds)}\n",
    "    \"\"\"\n",
    "    print(output_train)\n",
    "\n",
    "    #################################################\n",
    "\n",
    "    output_test = f\"\"\"\n",
    "    METRICS FOR THE TESTING SET:\n",
    "    ----------------------------\n",
    "    {confusion_matrix(y_test, test_preds)}\n",
    "\n",
    "    {classification_report(y_test, test_preds)}\n",
    "    \"\"\"\n",
    "    print(output_test)\n",
    "    print()\n",
    "    \n",
    "    #################################################\n",
    "    \n",
    "    fpr_knn, tpr_knn, thresholds_knn = roc_curve(y_test, test_proba[:,1])\n",
    "\n",
    "    roc_auc_knn = auc(fpr_knn, tpr_knn)\n",
    "    print(f\"AUC for the Model Test Set: {roc_auc_knn}\")\n",
    "\n",
    "    # make plot\n",
    "    plt.figure(figsize=(10,6))\n",
    "    plt.plot(fpr_knn, tpr_knn, color='darkorange')\n",
    "    plt.plot([0, 1], [0, 1], color='navy', linestyle='--')\n",
    "    plt.xlim([0.0, 1.0])\n",
    "    plt.ylim([0.0, 1.05])\n",
    "    plt.xlabel('False Positive Rate')\n",
    "    plt.ylabel('True Positive Rate')\n",
    "    plt.title('ROC Curve')\n",
    "    plt.show()\n",
    "    \n",
    "    print(\"Brier Score:\")\n",
    "    print(sum((y_test - test_proba[:,1])**2))"
   ]
  },
  {
   "cell_type": "code",
   "execution_count": 20,
   "id": "2b1b498d",
   "metadata": {},
   "outputs": [
    {
     "name": "stdout",
     "output_type": "stream",
     "text": [
      "\n",
      "    METRICS FOR THE TRAINING SET:\n",
      "    ----------------------------\n",
      "    [[1074   45]\n",
      " [  22 3406]]\n",
      "\n",
      "                  precision    recall  f1-score   support\n",
      "\n",
      "           0       0.98      0.96      0.97      1119\n",
      "           1       0.99      0.99      0.99      3428\n",
      "\n",
      "    accuracy                           0.99      4547\n",
      "   macro avg       0.98      0.98      0.98      4547\n",
      "weighted avg       0.99      0.99      0.99      4547\n",
      "\n",
      "    \n",
      "\n",
      "    METRICS FOR THE TESTING SET:\n",
      "    ----------------------------\n",
      "    [[ 454   26]\n",
      " [   7 1463]]\n",
      "\n",
      "                  precision    recall  f1-score   support\n",
      "\n",
      "           0       0.98      0.95      0.96       480\n",
      "           1       0.98      1.00      0.99      1470\n",
      "\n",
      "    accuracy                           0.98      1950\n",
      "   macro avg       0.98      0.97      0.98      1950\n",
      "weighted avg       0.98      0.98      0.98      1950\n",
      "\n",
      "    \n",
      "\n",
      "AUC for the Model Test Set: 0.994265164399093\n"
     ]
    },
    {
     "data": {
      "image/png": "[encoded data removed]",
      "text/plain": [
       "<Figure size 720x432 with 1 Axes>"
      ]
     },
     "metadata": {
      "needs_background": "light"
     },
     "output_type": "display_data"
    },
    {
     "name": "stdout",
     "output_type": "stream",
     "text": [
      "Brier Score:\n",
      "27.362834565229967\n"
     ]
    }
   ],
   "source": [
    "lr = LogisticRegression(max_iter=10000)\n",
    "\n",
    "evaluateModel(lr, X_train, X_test, y_train, y_test)"
   ]
  },
  {
   "cell_type": "code",
   "execution_count": 21,
   "id": "7f21ced8",
   "metadata": {},
   "outputs": [
    {
     "name": "stdout",
     "output_type": "stream",
     "text": [
      "\n",
      "    METRICS FOR THE TRAINING SET:\n",
      "    ----------------------------\n",
      "    [[ 911  208]\n",
      " [  68 3360]]\n",
      "\n",
      "                  precision    recall  f1-score   support\n",
      "\n",
      "           0       0.93      0.81      0.87      1119\n",
      "           1       0.94      0.98      0.96      3428\n",
      "\n",
      "    accuracy                           0.94      4547\n",
      "   macro avg       0.94      0.90      0.91      4547\n",
      "weighted avg       0.94      0.94      0.94      4547\n",
      "\n",
      "    \n",
      "\n",
      "    METRICS FOR THE TESTING SET:\n",
      "    ----------------------------\n",
      "    [[ 388   92]\n",
      " [  38 1432]]\n",
      "\n",
      "                  precision    recall  f1-score   support\n",
      "\n",
      "           0       0.91      0.81      0.86       480\n",
      "           1       0.94      0.97      0.96      1470\n",
      "\n",
      "    accuracy                           0.93      1950\n",
      "   macro avg       0.93      0.89      0.91      1950\n",
      "weighted avg       0.93      0.93      0.93      1950\n",
      "\n",
      "    \n",
      "\n",
      "AUC for the Model Test Set: 0.9707086167800454\n"
     ]
    },
    {
     "data": {
      "image/png": "[encoded data removed]",
      "text/plain": [
       "<Figure size 720x432 with 1 Axes>"
      ]
     },
     "metadata": {
      "needs_background": "light"
     },
     "output_type": "display_data"
    },
    {
     "name": "stdout",
     "output_type": "stream",
     "text": [
      "Brier Score:\n",
      "97.59861591695518\n"
     ]
    }
   ],
   "source": [
    "knn_model = KNeighborsClassifier(n_neighbors=17)\n",
    "\n",
    "evaluateModel(knn_model, X_train, X_test, y_train, y_test)"
   ]
  },
  {
   "cell_type": "code",
   "execution_count": 22,
   "id": "ae34bcdb",
   "metadata": {},
   "outputs": [
    {
     "name": "stdout",
     "output_type": "stream",
     "text": [
      "\n",
      "    METRICS FOR THE TRAINING SET:\n",
      "    ----------------------------\n",
      "    [[ 892  227]\n",
      " [  55 3373]]\n",
      "\n",
      "                  precision    recall  f1-score   support\n",
      "\n",
      "           0       0.94      0.80      0.86      1119\n",
      "           1       0.94      0.98      0.96      3428\n",
      "\n",
      "    accuracy                           0.94      4547\n",
      "   macro avg       0.94      0.89      0.91      4547\n",
      "weighted avg       0.94      0.94      0.94      4547\n",
      "\n",
      "    \n",
      "\n",
      "    METRICS FOR THE TESTING SET:\n",
      "    ----------------------------\n",
      "    [[ 377  103]\n",
      " [  34 1436]]\n",
      "\n",
      "                  precision    recall  f1-score   support\n",
      "\n",
      "           0       0.92      0.79      0.85       480\n",
      "           1       0.93      0.98      0.95      1470\n",
      "\n",
      "    accuracy                           0.93      1950\n",
      "   macro avg       0.93      0.88      0.90      1950\n",
      "weighted avg       0.93      0.93      0.93      1950\n",
      "\n",
      "    \n",
      "\n",
      "AUC for the Model Test Set: 0.9324723639455783\n"
     ]
    },
    {
     "data": {
      "image/png": "[encoded data removed]",
      "text/plain": [
       "<Figure size 720x432 with 1 Axes>"
      ]
     },
     "metadata": {
      "needs_background": "light"
     },
     "output_type": "display_data"
    },
    {
     "name": "stdout",
     "output_type": "stream",
     "text": [
      "Brier Score:\n",
      "112.88670271707595\n"
     ]
    }
   ],
   "source": [
    "svm_model = SVC(probability=True)\n",
    "\n",
    "evaluateModel(svm_model, X_train, X_test, y_train, y_test)"
   ]
  },
  {
   "cell_type": "code",
   "execution_count": 23,
   "id": "37931223",
   "metadata": {},
   "outputs": [
    {
     "name": "stdout",
     "output_type": "stream",
     "text": [
      "\n",
      "    METRICS FOR THE TRAINING SET:\n",
      "    ----------------------------\n",
      "    [[1119    0]\n",
      " [   0 3428]]\n",
      "\n",
      "                  precision    recall  f1-score   support\n",
      "\n",
      "           0       1.00      1.00      1.00      1119\n",
      "           1       1.00      1.00      1.00      3428\n",
      "\n",
      "    accuracy                           1.00      4547\n",
      "   macro avg       1.00      1.00      1.00      4547\n",
      "weighted avg       1.00      1.00      1.00      4547\n",
      "\n",
      "    \n",
      "\n",
      "    METRICS FOR THE TESTING SET:\n",
      "    ----------------------------\n",
      "    [[ 477    3]\n",
      " [   5 1465]]\n",
      "\n",
      "                  precision    recall  f1-score   support\n",
      "\n",
      "           0       0.99      0.99      0.99       480\n",
      "           1       1.00      1.00      1.00      1470\n",
      "\n",
      "    accuracy                           1.00      1950\n",
      "   macro avg       0.99      1.00      0.99      1950\n",
      "weighted avg       1.00      1.00      1.00      1950\n",
      "\n",
      "    \n",
      "\n",
      "AUC for the Model Test Set: 0.9999348072562357\n"
     ]
    },
    {
     "data": {
      "image/png": "[encoded data removed]",
      "text/plain": [
       "<Figure size 720x432 with 1 Axes>"
      ]
     },
     "metadata": {
      "needs_background": "light"
     },
     "output_type": "display_data"
    },
    {
     "name": "stdout",
     "output_type": "stream",
     "text": [
      "Brier Score:\n",
      "8.986299999999975\n"
     ]
    }
   ],
   "source": [
    "rf = RandomForestClassifier()\n",
    "\n",
    "evaluateModel(rf, X_train, X_test, y_train, y_test)"
   ]
  },
  {
   "cell_type": "code",
   "execution_count": 24,
   "id": "46b79124",
   "metadata": {},
   "outputs": [
    {
     "name": "stdout",
     "output_type": "stream",
     "text": [
      "\n",
      "    METRICS FOR THE TRAINING SET:\n",
      "    ----------------------------\n",
      "    [[1119    0]\n",
      " [   0 3428]]\n",
      "\n",
      "                  precision    recall  f1-score   support\n",
      "\n",
      "           0       1.00      1.00      1.00      1119\n",
      "           1       1.00      1.00      1.00      3428\n",
      "\n",
      "    accuracy                           1.00      4547\n",
      "   macro avg       1.00      1.00      1.00      4547\n",
      "weighted avg       1.00      1.00      1.00      4547\n",
      "\n",
      "    \n",
      "\n",
      "    METRICS FOR THE TESTING SET:\n",
      "    ----------------------------\n",
      "    [[ 478    2]\n",
      " [   6 1464]]\n",
      "\n",
      "                  precision    recall  f1-score   support\n",
      "\n",
      "           0       0.99      1.00      0.99       480\n",
      "           1       1.00      1.00      1.00      1470\n",
      "\n",
      "    accuracy                           1.00      1950\n",
      "   macro avg       0.99      1.00      0.99      1950\n",
      "weighted avg       1.00      1.00      1.00      1950\n",
      "\n",
      "    \n",
      "\n",
      "AUC for the Model Test Set: 0.9999241780045351\n"
     ]
    },
    {
     "data": {
      "image/png": "[encoded data removed]",
      "text/plain": [
       "<Figure size 720x432 with 1 Axes>"
      ]
     },
     "metadata": {
      "needs_background": "light"
     },
     "output_type": "display_data"
    },
    {
     "name": "stdout",
     "output_type": "stream",
     "text": [
      "Brier Score:\n",
      "5.382569843439458\n"
     ]
    }
   ],
   "source": [
    "xgb = XGBClassifier()\n",
    "\n",
    "evaluateModel(xgb, X_train, X_test, y_train, y_test)"
   ]
  },
  {
   "cell_type": "code",
   "execution_count": 25,
   "id": "86ce82ef",
   "metadata": {},
   "outputs": [
    {
     "name": "stdout",
     "output_type": "stream",
     "text": [
      "\n",
      "    METRICS FOR THE TRAINING SET:\n",
      "    ----------------------------\n",
      "    [[1119    0]\n",
      " [   0 3428]]\n",
      "\n",
      "                  precision    recall  f1-score   support\n",
      "\n",
      "           0       1.00      1.00      1.00      1119\n",
      "           1       1.00      1.00      1.00      3428\n",
      "\n",
      "    accuracy                           1.00      4547\n",
      "   macro avg       1.00      1.00      1.00      4547\n",
      "weighted avg       1.00      1.00      1.00      4547\n",
      "\n",
      "    \n",
      "\n",
      "    METRICS FOR THE TESTING SET:\n",
      "    ----------------------------\n",
      "    [[ 478    2]\n",
      " [   6 1464]]\n",
      "\n",
      "                  precision    recall  f1-score   support\n",
      "\n",
      "           0       0.99      1.00      0.99       480\n",
      "           1       1.00      1.00      1.00      1470\n",
      "\n",
      "    accuracy                           1.00      1950\n",
      "   macro avg       0.99      1.00      0.99      1950\n",
      "weighted avg       1.00      1.00      1.00      1950\n",
      "\n",
      "    \n",
      "\n",
      "AUC for the Model Test Set: 0.9998958333333333\n"
     ]
    },
    {
     "data": {
      "image/png": "[encoded data removed]",
      "text/plain": [
       "<Figure size 720x432 with 1 Axes>"
      ]
     },
     "metadata": {
      "needs_background": "light"
     },
     "output_type": "display_data"
    },
    {
     "name": "stdout",
     "output_type": "stream",
     "text": [
      "Brier Score:\n",
      "6.295899381984711\n"
     ]
    }
   ],
   "source": [
    " lgb = LGBMClassifier()\n",
    "\n",
    "evaluateModel(lgb, X_train, X_test, y_train, y_test)"
   ]
  },
  {
   "cell_type": "code",
   "execution_count": 26,
   "id": "d0de1326",
   "metadata": {},
   "outputs": [],
   "source": [
    "from sklearn.ensemble import AdaBoostClassifier"
   ]
  },
  {
   "cell_type": "code",
   "execution_count": 27,
   "id": "8aaff181",
   "metadata": {},
   "outputs": [
    {
     "name": "stdout",
     "output_type": "stream",
     "text": [
      "\n",
      "    METRICS FOR THE TRAINING SET:\n",
      "    ----------------------------\n",
      "    [[1108   11]\n",
      " [   7 3421]]\n",
      "\n",
      "                  precision    recall  f1-score   support\n",
      "\n",
      "           0       0.99      0.99      0.99      1119\n",
      "           1       1.00      1.00      1.00      3428\n",
      "\n",
      "    accuracy                           1.00      4547\n",
      "   macro avg       1.00      0.99      0.99      4547\n",
      "weighted avg       1.00      1.00      1.00      4547\n",
      "\n",
      "    \n",
      "\n",
      "    METRICS FOR THE TESTING SET:\n",
      "    ----------------------------\n",
      "    [[ 476    4]\n",
      " [   9 1461]]\n",
      "\n",
      "                  precision    recall  f1-score   support\n",
      "\n",
      "           0       0.98      0.99      0.99       480\n",
      "           1       1.00      0.99      1.00      1470\n",
      "\n",
      "    accuracy                           0.99      1950\n",
      "   macro avg       0.99      0.99      0.99      1950\n",
      "weighted avg       0.99      0.99      0.99      1950\n",
      "\n",
      "    \n",
      "\n",
      "AUC for the Model Test Set: 0.9996308106575963\n"
     ]
    },
    {
     "data": {
      "image/png": "[encoded data removed]",
      "text/plain": [
       "<Figure size 720x432 with 1 Axes>"
      ]
     },
     "metadata": {
      "needs_background": "light"
     },
     "output_type": "display_data"
    },
    {
     "name": "stdout",
     "output_type": "stream",
     "text": [
      "Brier Score:\n",
      "350.5514113673169\n"
     ]
    }
   ],
   "source": [
    " ada = AdaBoostClassifier(random_state=42)\n",
    "\n",
    "evaluateModel(ada, X_train, X_test, y_train, y_test)"
   ]
  },
  {
   "cell_type": "code",
   "execution_count": 28,
   "id": "8901209e",
   "metadata": {},
   "outputs": [
    {
     "data": {
      "text/plain": [
       "[(0.0, 'quality'),\n",
       " (0.04, 'citric acid'),\n",
       " (0.04, 'free sulfur dioxide'),\n",
       " (0.06, 'fixed acidity'),\n",
       " (0.06, 'pH'),\n",
       " (0.06, 'volatile acidity'),\n",
       " (0.08, 'sulphates'),\n",
       " (0.1, 'chlorides'),\n",
       " (0.12, 'alcohol'),\n",
       " (0.12, 'residual sugar'),\n",
       " (0.12, 'total sulfur dioxide'),\n",
       " (0.2, 'density')]"
      ]
     },
     "execution_count": 28,
     "metadata": {},
     "output_type": "execute_result"
    }
   ],
   "source": [
    "sorted(list(zip(ada.feature_importances_, features)))"
   ]
  },
  {
   "cell_type": "code",
   "execution_count": 29,
   "id": "adc964af",
   "metadata": {},
   "outputs": [
    {
     "data": {
      "text/html": [
       "<div>\n",
       "<style scoped>\n",
       "    .dataframe tbody tr th:only-of-type {\n",
       "        vertical-align: middle;\n",
       "    }\n",
       "\n",
       "    .dataframe tbody tr th {\n",
       "        vertical-align: top;\n",
       "    }\n",
       "\n",
       "    .dataframe thead th {\n",
       "        text-align: right;\n",
       "    }\n",
       "</style>\n",
       "<table border=\"1\" class=\"dataframe\">\n",
       "  <thead>\n",
       "    <tr style=\"text-align: right;\">\n",
       "      <th></th>\n",
       "      <th>fixed acidity</th>\n",
       "      <th>volatile acidity</th>\n",
       "      <th>citric acid</th>\n",
       "      <th>residual sugar</th>\n",
       "      <th>chlorides</th>\n",
       "      <th>free sulfur dioxide</th>\n",
       "      <th>total sulfur dioxide</th>\n",
       "      <th>density</th>\n",
       "      <th>pH</th>\n",
       "      <th>sulphates</th>\n",
       "      <th>alcohol</th>\n",
       "      <th>quality</th>\n",
       "      <th>target</th>\n",
       "    </tr>\n",
       "  </thead>\n",
       "  <tbody>\n",
       "    <tr>\n",
       "      <th>count</th>\n",
       "      <td>6497.000000</td>\n",
       "      <td>6497.000000</td>\n",
       "      <td>6497.000000</td>\n",
       "      <td>6497.000000</td>\n",
       "      <td>6497.000000</td>\n",
       "      <td>6497.000000</td>\n",
       "      <td>6497.000000</td>\n",
       "      <td>6497.000000</td>\n",
       "      <td>6497.000000</td>\n",
       "      <td>6497.000000</td>\n",
       "      <td>6497.000000</td>\n",
       "      <td>6497.000000</td>\n",
       "      <td>6497.000000</td>\n",
       "    </tr>\n",
       "    <tr>\n",
       "      <th>mean</th>\n",
       "      <td>7.215307</td>\n",
       "      <td>0.339666</td>\n",
       "      <td>0.318633</td>\n",
       "      <td>5.443235</td>\n",
       "      <td>0.056034</td>\n",
       "      <td>30.525319</td>\n",
       "      <td>115.744574</td>\n",
       "      <td>0.994697</td>\n",
       "      <td>3.218501</td>\n",
       "      <td>0.531268</td>\n",
       "      <td>10.491801</td>\n",
       "      <td>5.818378</td>\n",
       "      <td>0.753886</td>\n",
       "    </tr>\n",
       "    <tr>\n",
       "      <th>std</th>\n",
       "      <td>1.296434</td>\n",
       "      <td>0.164636</td>\n",
       "      <td>0.145318</td>\n",
       "      <td>4.757804</td>\n",
       "      <td>0.035034</td>\n",
       "      <td>17.749400</td>\n",
       "      <td>56.521855</td>\n",
       "      <td>0.002999</td>\n",
       "      <td>0.160787</td>\n",
       "      <td>0.148806</td>\n",
       "      <td>1.192712</td>\n",
       "      <td>0.873255</td>\n",
       "      <td>0.430779</td>\n",
       "    </tr>\n",
       "    <tr>\n",
       "      <th>min</th>\n",
       "      <td>3.800000</td>\n",
       "      <td>0.080000</td>\n",
       "      <td>0.000000</td>\n",
       "      <td>0.600000</td>\n",
       "      <td>0.009000</td>\n",
       "      <td>1.000000</td>\n",
       "      <td>6.000000</td>\n",
       "      <td>0.987110</td>\n",
       "      <td>2.720000</td>\n",
       "      <td>0.220000</td>\n",
       "      <td>8.000000</td>\n",
       "      <td>3.000000</td>\n",
       "      <td>0.000000</td>\n",
       "    </tr>\n",
       "    <tr>\n",
       "      <th>25%</th>\n",
       "      <td>6.400000</td>\n",
       "      <td>0.230000</td>\n",
       "      <td>0.250000</td>\n",
       "      <td>1.800000</td>\n",
       "      <td>0.038000</td>\n",
       "      <td>17.000000</td>\n",
       "      <td>77.000000</td>\n",
       "      <td>0.992340</td>\n",
       "      <td>3.110000</td>\n",
       "      <td>0.430000</td>\n",
       "      <td>9.500000</td>\n",
       "      <td>5.000000</td>\n",
       "      <td>1.000000</td>\n",
       "    </tr>\n",
       "    <tr>\n",
       "      <th>50%</th>\n",
       "      <td>7.000000</td>\n",
       "      <td>0.290000</td>\n",
       "      <td>0.310000</td>\n",
       "      <td>3.000000</td>\n",
       "      <td>0.047000</td>\n",
       "      <td>29.000000</td>\n",
       "      <td>118.000000</td>\n",
       "      <td>0.994890</td>\n",
       "      <td>3.210000</td>\n",
       "      <td>0.510000</td>\n",
       "      <td>10.300000</td>\n",
       "      <td>6.000000</td>\n",
       "      <td>1.000000</td>\n",
       "    </tr>\n",
       "    <tr>\n",
       "      <th>75%</th>\n",
       "      <td>7.700000</td>\n",
       "      <td>0.400000</td>\n",
       "      <td>0.390000</td>\n",
       "      <td>8.100000</td>\n",
       "      <td>0.065000</td>\n",
       "      <td>41.000000</td>\n",
       "      <td>156.000000</td>\n",
       "      <td>0.996990</td>\n",
       "      <td>3.320000</td>\n",
       "      <td>0.600000</td>\n",
       "      <td>11.300000</td>\n",
       "      <td>6.000000</td>\n",
       "      <td>1.000000</td>\n",
       "    </tr>\n",
       "    <tr>\n",
       "      <th>max</th>\n",
       "      <td>15.900000</td>\n",
       "      <td>1.580000</td>\n",
       "      <td>1.660000</td>\n",
       "      <td>65.800000</td>\n",
       "      <td>0.611000</td>\n",
       "      <td>289.000000</td>\n",
       "      <td>440.000000</td>\n",
       "      <td>1.038980</td>\n",
       "      <td>4.010000</td>\n",
       "      <td>2.000000</td>\n",
       "      <td>14.900000</td>\n",
       "      <td>9.000000</td>\n",
       "      <td>1.000000</td>\n",
       "    </tr>\n",
       "  </tbody>\n",
       "</table>\n",
       "</div>"
      ],
      "text/plain": [
       "       fixed acidity  volatile acidity  citric acid  residual sugar  \\\n",
       "count    6497.000000       6497.000000  6497.000000     6497.000000   \n",
       "mean        7.215307          0.339666     0.318633        5.443235   \n",
       "std         1.296434          0.164636     0.145318        4.757804   \n",
       "min         3.800000          0.080000     0.000000        0.600000   \n",
       "25%         6.400000          0.230000     0.250000        1.800000   \n",
       "50%         7.000000          0.290000     0.310000        3.000000   \n",
       "75%         7.700000          0.400000     0.390000        8.100000   \n",
       "max        15.900000          1.580000     1.660000       65.800000   \n",
       "\n",
       "         chlorides  free sulfur dioxide  total sulfur dioxide      density  \\\n",
       "count  6497.000000          6497.000000           6497.000000  6497.000000   \n",
       "mean      0.056034            30.525319            115.744574     0.994697   \n",
       "std       0.035034            17.749400             56.521855     0.002999   \n",
       "min       0.009000             1.000000              6.000000     0.987110   \n",
       "25%       0.038000            17.000000             77.000000     0.992340   \n",
       "50%       0.047000            29.000000            118.000000     0.994890   \n",
       "75%       0.065000            41.000000            156.000000     0.996990   \n",
       "max       0.611000           289.000000            440.000000     1.038980   \n",
       "\n",
       "                pH    sulphates      alcohol      quality       target  \n",
       "count  6497.000000  6497.000000  6497.000000  6497.000000  6497.000000  \n",
       "mean      3.218501     0.531268    10.491801     5.818378     0.753886  \n",
       "std       0.160787     0.148806     1.192712     0.873255     0.430779  \n",
       "min       2.720000     0.220000     8.000000     3.000000     0.000000  \n",
       "25%       3.110000     0.430000     9.500000     5.000000     1.000000  \n",
       "50%       3.210000     0.510000    10.300000     6.000000     1.000000  \n",
       "75%       3.320000     0.600000    11.300000     6.000000     1.000000  \n",
       "max       4.010000     2.000000    14.900000     9.000000     1.000000  "
      ]
     },
     "execution_count": 29,
     "metadata": {},
     "output_type": "execute_result"
    }
   ],
   "source": [
    "df.describe()"
   ]
  },
  {
   "cell_type": "code",
   "execution_count": 30,
   "id": "fda2abdd",
   "metadata": {},
   "outputs": [
    {
     "data": {
      "text/plain": [
       "array([0], dtype=uint8)"
      ]
     },
     "execution_count": 30,
     "metadata": {},
     "output_type": "execute_result"
    }
   ],
   "source": [
    "lr.predict([[10,1,.07,5,.05,25,115,1,3,.5,9,6]])"
   ]
  },
  {
   "cell_type": "code",
   "execution_count": 31,
   "id": "4e91f34e",
   "metadata": {},
   "outputs": [],
   "source": [
    "pickle.dump(lr, open('wine_type.pkl', 'wb'))"
   ]
  },
  {
   "cell_type": "code",
   "execution_count": null,
   "id": "01edaf8e",
   "metadata": {},
   "outputs": [],
   "source": []
  },
  {
   "cell_type": "code",
   "execution_count": null,
   "id": "266cb2c1",
   "metadata": {},
   "outputs": [],
   "source": []
  }
 ],
 "metadata": {
  "kernelspec": {
   "display_name": "Python 3 (ipykernel)",
   "language": "python",
   "name": "python3"
  },
  "language_info": {
   "codemirror_mode": {
    "name": "ipython",
    "version": 3
   },
   "file_extension": ".py",
   "mimetype": "text/x-python",
   "name": "python",
   "nbconvert_exporter": "python",
   "pygments_lexer": "ipython3",
   "version": "3.9.12"
  }
 },
 "nbformat": 4,
 "nbformat_minor": 5
}
